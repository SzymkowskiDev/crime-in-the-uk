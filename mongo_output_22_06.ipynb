{
 "cells": [
  {
   "cell_type": "code",
   "execution_count": 1,
   "metadata": {},
   "outputs": [],
   "source": [
    "import pymongo"
   ]
  },
  {
   "cell_type": "code",
   "execution_count": 5,
   "metadata": {},
   "outputs": [],
   "source": [
    "con = pymongo.MongoClient(host ='127.0.0.1:27018', username = 'root' ,password = 'abc123' )\n",
    "data = con['web_content']['articles'].find({},{}) #all columns\n",
    "data = con['web_content']['articles'].find({},{'_id':0}) # without id\n",
    "\n"
   ]
  },
  {
   "cell_type": "code",
   "execution_count": 6,
   "metadata": {},
   "outputs": [
    {
     "data": {
      "text/plain": [
       "{'title': 'Northumbria: Can you help us trace wanted man Matthew Attenborough?',\n",
       " 'post date': '13/05/2022',\n",
       " 'link': 'https://crimestoppers-uk.org/campaigns-media/news/2022/may/northumbria-can-you-help-us-trace-wanted-man-matthew-attenborough',\n",
       " 'content': 'We are offering a reward of up to £1,000 for anonymous information that leads to the arrest of 41-year-old Matthew Attenborough who is wanted in connection with a spate of fraud by false representation offences.\\n\\r\\nA number of police forces across the country have been working together in a bid to locate Attenborough, who also goes by the name Rauiri O’Chonghaile, and is actively evading arrest.'}"
      ]
     },
     "execution_count": 6,
     "metadata": {},
     "output_type": "execute_result"
    }
   ],
   "source": [
    "data[1]"
   ]
  }
 ],
 "metadata": {
  "kernelspec": {
   "display_name": "Python 3.9.4 64-bit",
   "language": "python",
   "name": "python3"
  },
  "language_info": {
   "codemirror_mode": {
    "name": "ipython",
    "version": 3
   },
   "file_extension": ".py",
   "mimetype": "text/x-python",
   "name": "python",
   "nbconvert_exporter": "python",
   "pygments_lexer": "ipython3",
   "version": "3.9.4"
  },
  "orig_nbformat": 4,
  "vscode": {
   "interpreter": {
    "hash": "6a6489ea0c3cfb071d34d6a2b7f9bc07a1d1a0141cc86c9e0735e06216e9f327"
   }
  }
 },
 "nbformat": 4,
 "nbformat_minor": 2
}
