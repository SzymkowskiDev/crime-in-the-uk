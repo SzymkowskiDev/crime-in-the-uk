{
 "cells": [
  {
   "cell_type": "code",
   "execution_count": 2,
   "metadata": {},
   "outputs": [],
   "source": [
    "import pymongo"
   ]
  },
  {
   "cell_type": "code",
   "execution_count": 3,
   "metadata": {},
   "outputs": [],
   "source": [
    "con = pymongo.MongoClient(host ='127.0.0.1:27018', username = 'root' ,password = 'abc123' )\n",
    "data = con['web_content']['articles'].find({},{})\n"
   ]
  },
  {
   "cell_type": "code",
   "execution_count": 4,
   "metadata": {},
   "outputs": [
    {
     "data": {
      "text/plain": [
       "{'_id': ObjectId('62b246abe82758319251b3c2'),\n",
       " 'title': 'Sussex: Urgent appeal to find Ryan McLean, wanted over serious stabbing incident',\n",
       " 'post date': '13/04/2022',\n",
       " 'link': 'https://crimestoppers-uk.org/campaigns-media/news/2022/apr/sussex-urgent-appeal-to-find-ryan-mclean-wanted-over-serious-stabbing-incident',\n",
       " 'subtitle': 'McLean continues to evade questioning, and the public are warned not to approach him but to contact our charity anonymously.',\n",
       " 'Comment': 'Ryan McLean is dangerous and urgently wanted for questioning over a serious assault on a man in February this year. McLean has so far managed to evade efforts to find him. Our charity is here to give people an anonymous option if they prefer not to speak to the police. You can tell us what you know and we’ll pass it on for you. This urgent appeal is for anyone with information on where Ryan McLean is hiding to do the right thing and to speak to our charity 100% anonymously. If you think you know where he is, or think you might have seen him, please speak up and tell us anonymously. As a charity that’s independent of the police, Crimestoppers has always kept its promise of anonymity – we’ve supported millions of people who have trusted us with their crime information since we began in the late 1980s. Please call our UK Contact Centre on freephone 0800 555 111, which is open 24 hours a day, seven days a week, or fill in our website’s simple and secure anonymous online form. No one will ever know you contacted us. We cannot trace your call or track your IP address and we never ask for or record any personal details. Together, we can help keep our communities safe.',\n",
       " 'content': '',\n",
       " 'comment author': 'Annabelle Goodenough',\n",
       " 'author title': 'Crimestoppers Manager for Sussex'}"
      ]
     },
     "execution_count": 4,
     "metadata": {},
     "output_type": "execute_result"
    }
   ],
   "source": [
    "data[1]"
   ]
  }
 ],
 "metadata": {
  "kernelspec": {
   "display_name": "Python 3.9.4 64-bit",
   "language": "python",
   "name": "python3"
  },
  "language_info": {
   "codemirror_mode": {
    "name": "ipython",
    "version": 3
   },
   "file_extension": ".py",
   "mimetype": "text/x-python",
   "name": "python",
   "nbconvert_exporter": "python",
   "pygments_lexer": "ipython3",
   "version": "3.9.4"
  },
  "orig_nbformat": 4,
  "vscode": {
   "interpreter": {
    "hash": "6a6489ea0c3cfb071d34d6a2b7f9bc07a1d1a0141cc86c9e0735e06216e9f327"
   }
  }
 },
 "nbformat": 4,
 "nbformat_minor": 2
}
