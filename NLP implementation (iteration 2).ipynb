{
 "cells": [
  {
   "cell_type": "code",
   "execution_count": 54,
   "id": "823607a5",
   "metadata": {},
   "outputs": [
    {
     "name": "stdout",
     "output_type": "stream",
     "text": [
      "Sussex: Urgent appeal to find Ryan McLean, wanted over serious stabbing incident. McLean continues to evade questioning, and the public are warned not to approach him but to contact our charity anonymously. Ryan McLean is dangerous and urgently wanted for questioning over a serious assault on a man in February this year. McLean has so far managed to evade efforts to find him. Our charity is here to give people an anonymous option if they prefer not to speak to the police. You can tell us what you know and we’ll pass it on for you. This urgent appeal is for anyone with information on where Ryan McLean is hiding to do the right thing and to speak to our charity 100% anonymously. If you think you know where he is, or think you might have seen him, please speak up and tell us anonymously. As a charity that’s independent of the police, Crimestoppers has always kept its promise of anonymity – we’ve supported millions of people who have trusted us with their crime information since we began in the late 1980s. Please call our UK Contact Centre on freephone 0800 555 111, which is open 24 hours a day, seven days a week, or fill in our website’s simple and secure anonymous online form. No one will ever know you contacted us. We cannot trace your call or track your IP address and we never ask for or record any personal details. Together, we can help keep our communities safe. cocaine heroin\n"
     ]
    }
   ],
   "source": [
    "# Loading data, we have relevant text in the keys 'title','subtitle' and 'Comment'\n",
    "# data = {'_id': ObjectId('62b246abe82758319251b3c2'),\n",
    "#  'title': 'Sussex: Urgent appeal to find Ryan McLean, wanted over serious stabbing incident',\n",
    "#  'post date': '13/04/2022',\n",
    "#  'link': 'https://crimestoppers-uk.org/campaigns-media/news/2022/apr/sussex-urgent-appeal-to-find-ryan-mclean-wanted-over-serious-stabbing-incident',\n",
    "#  'subtitle': 'McLean continues to evade questioning, and the public are warned not to approach him but to contact our charity anonymously.',\n",
    "#  'Comment': 'Ryan McLean is dangerous and urgently wanted for questioning over a serious assault on a man in February this year. McLean has so far managed to evade efforts to find him. Our charity is here to give people an anonymous option if they prefer not to speak to the police. You can tell us what you know and we’ll pass it on for you. This urgent appeal is for anyone with information on where Ryan McLean is hiding to do the right thing and to speak to our charity 100% anonymously. If you think you know where he is, or think you might have seen him, please speak up and tell us anonymously. As a charity that’s independent of the police, Crimestoppers has always kept its promise of anonymity – we’ve supported millions of people who have trusted us with their crime information since we began in the late 1980s. Please call our UK Contact Centre on freephone 0800 555 111, which is open 24 hours a day, seven days a week, or fill in our website’s simple and secure anonymous online form. No one will ever know you contacted us. We cannot trace your call or track your IP address and we never ask for or record any personal details. Together, we can help keep our communities safe.',\n",
    "#  'content': '',\n",
    "#  'comment author': 'Annabelle Goodenough',\n",
    "#  'author title': 'Crimestoppers Manager for Sussex'}\n",
    "\n",
    "# An error message appears \"NameError: name 'ObjectId' is not defined\" that has to do with key-pair:'_id': ObjectId('62b246abe82758319251b3c2')\n",
    "\n",
    "# Let's imagine we have a proper dictionary without that ObjectId() thing ...\n",
    "\n",
    "data = {'_id': '62b246abe82758319251b3c2',\n",
    " 'title': 'Sussex: Urgent appeal to find Ryan McLean, wanted over serious stabbing incident',\n",
    " 'post date': '13/04/2022',\n",
    " 'link': 'https://crimestoppers-uk.org/campaigns-media/news/2022/apr/sussex-urgent-appeal-to-find-ryan-mclean-wanted-over-serious-stabbing-incident',\n",
    " 'subtitle': 'McLean continues to evade questioning, and the public are warned not to approach him but to contact our charity anonymously.',\n",
    " 'Comment': 'Ryan McLean is dangerous and urgently wanted for questioning over a serious assault on a man in February this year. McLean has so far managed to evade efforts to find him. Our charity is here to give people an anonymous option if they prefer not to speak to the police. You can tell us what you know and we’ll pass it on for you. This urgent appeal is for anyone with information on where Ryan McLean is hiding to do the right thing and to speak to our charity 100% anonymously. If you think you know where he is, or think you might have seen him, please speak up and tell us anonymously. As a charity that’s independent of the police, Crimestoppers has always kept its promise of anonymity – we’ve supported millions of people who have trusted us with their crime information since we began in the late 1980s. Please call our UK Contact Centre on freephone 0800 555 111, which is open 24 hours a day, seven days a week, or fill in our website’s simple and secure anonymous online form. No one will ever know you contacted us. We cannot trace your call or track your IP address and we never ask for or record any personal details. Together, we can help keep our communities safe.',\n",
    " 'content': '',\n",
    " 'comment author': 'Annabelle Goodenough',\n",
    " 'author title': 'Crimestoppers Manager for Sussex'}\n",
    "\n",
    "# I wish to have a single container of text: so we extract the relevant text items\n",
    "title = data.get(\"title\")\n",
    "subtitle = data.get(\"subtitle\")\n",
    "Comment = data.get(\"Comment\")\n",
    "\n",
    "text = title + '. ' + subtitle + ' ' + Comment\n",
    "# Adding some drugs to the text\n",
    "text = text + ' cocaine' + ' heroin'\n",
    "print(text)"
   ]
  },
  {
   "cell_type": "code",
   "execution_count": 55,
   "id": "87a892f8",
   "metadata": {},
   "outputs": [
    {
     "name": "stdout",
     "output_type": "stream",
     "text": [
      "{'Suspect': ['?'], 'Location': ['?'], 'Date': ['?'], 'Drugs': ['?'], 'Offences': ['?'], 'Injury': ['?'], 'Death': ['?'], 'Reward': ['?'], 'Amount': ['?'], 'Theft': ['?'], 'Substances': ['?']}\n"
     ]
    }
   ],
   "source": [
    "# From the above text we wish to output a table filled with information extracted from it\n",
    "\n",
    "# The table will be a Pandas DataFrame\n",
    "import pandas as pd\n",
    "\n",
    "# target_df = pd.DataFrame({'Suspect': ['?'],\n",
    "#                           'Location': ['?'],\n",
    "#                           'Date': ['?'],\n",
    "#                           'Drugs': ['?'],\n",
    "#                           'Victim': ['?'],\n",
    "#                           'Injury': ['?'],\n",
    "#                           'Death': ['?'],\n",
    "#                           'Reward': ['?'],\n",
    "#                           'Amount': ['?'],\n",
    "#                           'Theft': ['?'],\n",
    "#                           'Substances': ['?'],\n",
    "#                           'Offences': ['?']})\n",
    "\n",
    "output_dic = {'Suspect': ['?'],\n",
    "              'Location': ['?'],\n",
    "              'Date': ['?'],\n",
    "              'Drugs': ['?'],\n",
    "              'Offences': ['?'],\n",
    "              'Injury': ['?'],\n",
    "              'Death': ['?'],\n",
    "              'Reward': ['?'],\n",
    "              'Amount': ['?'],\n",
    "              'Theft': ['?'],\n",
    "              'Substances': ['?']}\n",
    "\n",
    "print(output_dic)\n",
    "# The data frame will be later extended for more variables from drugs and crimes dictionaries and some other parameters\n",
    "\n",
    "offences = ['robbery', 'stabbing', 'assault', 'affray', 'dangerous driving', 'possession with intent to supply', 'theft', 'money laundering', 'conspiracy', 'distribution', 'drugs', 'class b', 'class b', 'possession of a weapon', 'stolen goods', 'murder', 'burglary', 'fraud', 'rape', 'sexual assault', 'stealing']\n",
    "\n",
    "drugs = ['cocaine', 'cannabis', 'heroin', 'MDMA', 'methylphenidate', 'diazepam', 'LSD', 'amphetamine', 'diamorphine']\n",
    "\n",
    "regions = ['Avon & Somerset', 'Bedfordshire', 'Berkshire', 'Buckinghamshire', 'Cambridgeshire', 'Cheshire', 'Cleveland', 'Cumbria', 'Derbyshire', 'Devon & Cornwall', 'Dorset', 'Durham', 'Dyfed-Powys', 'Essex', 'Gloucestershire', 'Greater Manchester', 'Guernsey', 'Gwent', 'Hampshire & IOW', 'Hertfordshire', 'Humberside', 'Isle of Man', 'Jersey', 'Kent', 'Lancashire', 'Leicestershire', 'Lincolnshire', 'London', 'Merseyside', 'Nationwide', 'Norfolk', 'North Wales', 'North Yorkshire', 'Northamptonshire', 'Northern Ireland', 'Northumbria', 'Nottinghamshire', 'Oxfordshire', 'Scotland', 'South Wales', 'South Yorkshire', 'Staffordshire', 'Suffolk', 'Surrey', 'Sussex', 'Warwickshire', 'West Mercia', 'West Midlands', 'West Yorkshire', 'Wiltshire']"
   ]
  },
  {
   "cell_type": "code",
   "execution_count": 56,
   "id": "4a985f41",
   "metadata": {},
   "outputs": [
    {
     "name": "stdout",
     "output_type": "stream",
     "text": [
      "Ryan McLean\n",
      "{'Suspect': 'Ryan McLean', 'Location': ['?'], 'Date': ['?'], 'Drugs': ['?'], 'Offences': ['?'], 'Injury': ['?'], 'Death': ['?'], 'Reward': ['?'], 'Amount': ['?'], 'Theft': ['?'], 'Substances': ['?']}\n"
     ]
    }
   ],
   "source": [
    "# Obtaining 'Suspect' value\n",
    "\n",
    "# Performing Named Entity Recognition to extract the name of the suspect from the text\n",
    "\n",
    "import spacy\n",
    "from pprint import pprint\n",
    "\n",
    "def extractName(text):\n",
    "    nlp = spacy.load(\"en_core_web_sm\")\n",
    "    doc = nlp(text)\n",
    "    result = [(X.text, X.label_) for X in doc.ents]\n",
    "    def onlyPerson(x):\n",
    "        if x[1] == 'PERSON':\n",
    "            return True\n",
    "        else:\n",
    "            return False\n",
    "    return list(filter(onlyPerson, result))[0][0]\n",
    "       \n",
    "print(extractName(text))\n",
    "\n",
    "Suspect = extractName(text)\n",
    "\n",
    "output_dic.update({'Suspect': Suspect})\n",
    "\n",
    "print(output_dic)"
   ]
  },
  {
   "cell_type": "code",
   "execution_count": 57,
   "id": "bdfe2e29",
   "metadata": {},
   "outputs": [
    {
     "name": "stdout",
     "output_type": "stream",
     "text": [
      "{'Suspect': 'Ryan McLean', 'Location': 'Sussex', 'Date': ['?'], 'Drugs': ['?'], 'Offences': ['?'], 'Injury': ['?'], 'Death': ['?'], 'Reward': ['?'], 'Amount': ['?'], 'Theft': ['?'], 'Substances': ['?']}\n"
     ]
    }
   ],
   "source": [
    "# Obtaining 'Location' value\n",
    "\n",
    "# Defining a function that will do the preprocessing for further analysis\n",
    "\n",
    "import os\n",
    "import nltk\n",
    "from nltk.tokenize import word_tokenize\n",
    "\n",
    "def preProcess(text):\n",
    "    text_tokenized = word_tokenize(text)          # Tokenization\n",
    "    text_tagged = nltk.pos_tag(text_tokenized)    # POS tagging\n",
    "    return(text_tagged)\n",
    "\n",
    "text_tagged = preProcess(text)\n",
    "\n",
    "# Now extracting the 'Location' value\n",
    "\n",
    "def extractLocation(text_tagged):\n",
    "    def onlyRegion(x):\n",
    "        if x[0] in regions:\n",
    "            return True\n",
    "        else:\n",
    "            return False\n",
    "    return list(filter(onlyRegion, text_tagged))[0][0]\n",
    "        \n",
    "Location = extractLocation(text_tagged)\n",
    "\n",
    "output_dic.update({'Location': Location})\n",
    "\n",
    "print(output_dic)"
   ]
  },
  {
   "cell_type": "code",
   "execution_count": 58,
   "id": "08b576b3",
   "metadata": {},
   "outputs": [
    {
     "name": "stdout",
     "output_type": "stream",
     "text": [
      "{'Suspect': 'Ryan McLean', 'Location': 'Sussex', 'Date': '13/04/2022', 'Drugs': ['?'], 'Offences': ['?'], 'Injury': ['?'], 'Death': ['?'], 'Reward': ['?'], 'Amount': ['?'], 'Theft': ['?'], 'Substances': ['?']}\n"
     ]
    }
   ],
   "source": [
    "# Obtaining 'Date' value\n",
    "\n",
    "def extractDate(data):\n",
    "    date = data.get('post date')\n",
    "    return date\n",
    "\n",
    "Date = extractDate(data)\n",
    "\n",
    "output_dic.update({'Date': Date})\n",
    "\n",
    "print(output_dic)"
   ]
  },
  {
   "cell_type": "code",
   "execution_count": 59,
   "id": "9781953b",
   "metadata": {},
   "outputs": [
    {
     "name": "stdout",
     "output_type": "stream",
     "text": [
      "{'Suspect': 'Ryan McLean', 'Location': 'Sussex', 'Date': '13/04/2022', 'Drugs': ['cocaine', 'heroin'], 'Offences': ['?'], 'Injury': ['?'], 'Death': ['?'], 'Reward': ['?'], 'Amount': ['?'], 'Theft': ['?'], 'Substances': ['?']}\n"
     ]
    }
   ],
   "source": [
    "# Obtaining 'Drugs' value\n",
    " \n",
    "def extractDrugs(text_tagged):\n",
    "    def onlyDrugs(x):\n",
    "        if x[0] in drugs:\n",
    "            return True\n",
    "        else:\n",
    "            return False\n",
    "    return [x[0] for x in list(filter(onlyDrugs, text_tagged))]   \n",
    "\n",
    "Drugs = extractDrugs(text_tagged)\n",
    "\n",
    "output_dic.update({'Drugs': Drugs})\n",
    "\n",
    "print(output_dic)"
   ]
  },
  {
   "cell_type": "code",
   "execution_count": 60,
   "id": "f85770c1",
   "metadata": {},
   "outputs": [
    {
     "name": "stdout",
     "output_type": "stream",
     "text": [
      "{'Suspect': 'Ryan McLean', 'Location': 'Sussex', 'Date': '13/04/2022', 'Drugs': ['cocaine', 'heroin'], 'Offences': ['stabbing', 'assault'], 'Injury': ['?'], 'Death': ['?'], 'Reward': ['?'], 'Amount': ['?'], 'Theft': ['?'], 'Substances': ['?']}\n"
     ]
    }
   ],
   "source": [
    "# Obtaining 'Offences' value\n",
    "\n",
    "def extractOffences(text_tagged):\n",
    "    def onlyOffences(x):\n",
    "        if x[0] in offences:\n",
    "            return True\n",
    "        else:\n",
    "            return False\n",
    "    return [x[0] for x in list(filter(onlyOffences, text_tagged))]   \n",
    "\n",
    "Offences = extractOffences(text_tagged)\n",
    "\n",
    "output_dic.update({'Offences': Offences})\n",
    "\n",
    "print(output_dic)"
   ]
  },
  {
   "cell_type": "code",
   "execution_count": 61,
   "id": "fec0e53b",
   "metadata": {},
   "outputs": [
    {
     "name": "stdout",
     "output_type": "stream",
     "text": [
      "{'Suspect': 'Ryan McLean', 'Location': 'Sussex', 'Date': '13/04/2022', 'Drugs': ['cocaine', 'heroin'], 'Offences': ['stabbing', 'assault'], 'Injury': True, 'Death': ['?'], 'Reward': ['?'], 'Amount': ['?'], 'Theft': ['?'], 'Substances': ['?']}\n"
     ]
    }
   ],
   "source": [
    "# Obtaining 'Injury' value\n",
    "\n",
    "def extractInjury(Offences):\n",
    "    Injury_yes = ['stabbing', 'assault']\n",
    "    if any(x in Offences for x in Injury_yes):\n",
    "        return True\n",
    "    else:\n",
    "        return False\n",
    "\n",
    "Injury = extractInjury(Offences)\n",
    "\n",
    "output_dic.update({'Injury': Injury})\n",
    "\n",
    "print(output_dic)"
   ]
  },
  {
   "cell_type": "code",
   "execution_count": 62,
   "id": "bc74514d",
   "metadata": {},
   "outputs": [
    {
     "name": "stdout",
     "output_type": "stream",
     "text": [
      "{'Suspect': 'Ryan McLean', 'Location': 'Sussex', 'Date': '13/04/2022', 'Drugs': ['cocaine', 'heroin'], 'Offences': ['stabbing', 'assault'], 'Injury': True, 'Death': False, 'Reward': ['?'], 'Amount': ['?'], 'Theft': ['?'], 'Substances': ['?']}\n"
     ]
    }
   ],
   "source": [
    "# Obtaining 'Death' value\n",
    "\n",
    "def extractDeath(Offences):\n",
    "    Death_yes = ['murder']\n",
    "    if any(x in Offences for x in Death_yes):\n",
    "        return True\n",
    "    else:\n",
    "        return False\n",
    "\n",
    "Death = extractDeath(Offences)\n",
    "\n",
    "output_dic.update({'Death': Death})\n",
    "\n",
    "print(output_dic)"
   ]
  },
  {
   "cell_type": "code",
   "execution_count": null,
   "id": "c1dd4160",
   "metadata": {},
   "outputs": [],
   "source": []
  }
 ],
 "metadata": {
  "kernelspec": {
   "display_name": "Python 3 (ipykernel)",
   "language": "python",
   "name": "python3"
  },
  "language_info": {
   "codemirror_mode": {
    "name": "ipython",
    "version": 3
   },
   "file_extension": ".py",
   "mimetype": "text/x-python",
   "name": "python",
   "nbconvert_exporter": "python",
   "pygments_lexer": "ipython3",
   "version": "3.9.12"
  }
 },
 "nbformat": 4,
 "nbformat_minor": 5
}
